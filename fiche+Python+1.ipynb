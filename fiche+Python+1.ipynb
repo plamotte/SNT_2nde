{
 "cells": [
  {
   "cell_type": "markdown",
   "metadata": {},
   "source": [
    "# <font color='red'>Notion de variable</font>"
   ]
  },
  {
   "cell_type": "markdown",
   "metadata": {
    "collapsed": true
   },
   "source": [
    "## <center><font color='blue'>Définition</font></center>\n",
    "\n",
    "Dans un programme, une variable correspond à un emplacement de la mémoire.<br>\n",
    "Elle est repérée par un nom et possède une valeur."
   ]
  },
  {
   "cell_type": "markdown",
   "metadata": {},
   "source": [
    "## <center><font color='blue'>Affectation</font></center>\n",
    "Pour affecter une valeur à une variable en Python, on utilise l'opérateur =."
   ]
  },
  {
   "cell_type": "markdown",
   "metadata": {},
   "source": [
    "### Exemple<br>\n",
    "Pour affecter 2 à la variable x, on écrit :"
   ]
  },
  {
   "cell_type": "code",
   "execution_count": 1,
   "metadata": {
    "collapsed": true
   },
   "outputs": [],
   "source": [
    "x=2"
   ]
  },
  {
   "cell_type": "markdown",
   "metadata": {},
   "source": [
    "## <center><font color='blue'>Affichage</font><center>\n",
    "Pour demander l'affichage d'une variable, on utilise la commande <font color='green'>_print_</font>.<br>\n",
    "### Exemple\n",
    "Pour demander l'affichage de la variable x, on écrit :"
   ]
  },
  {
   "cell_type": "code",
   "execution_count": 2,
   "metadata": {},
   "outputs": [
    {
     "name": "stdout",
     "output_type": "stream",
     "text": [
      "2\n"
     ]
    }
   ],
   "source": [
    "print(x)"
   ]
  },
  {
   "cell_type": "markdown",
   "metadata": {},
   "source": [
    "Vous noterez qu'en sortie est bien affiché 2, valeur affectée à x précédemment."
   ]
  },
  {
   "cell_type": "markdown",
   "metadata": {},
   "source": [
    "### Exercice 1\n",
    "#### <center>à faire</center>\n",
    "Voici un algorythme en Python :"
   ]
  },
  {
   "cell_type": "code",
   "execution_count": 3,
   "metadata": {
    "collapsed": true
   },
   "outputs": [],
   "source": [
    "x=3\n",
    "y=5\n",
    "y=x*y\n",
    "z=x+y\n",
    "x=z-2"
   ]
  },
  {
   "cell_type": "markdown",
   "metadata": {},
   "source": [
    "**Quelles sont les valeurs de x, y et z ?**"
   ]
  },
  {
   "cell_type": "markdown",
   "metadata": {},
   "source": [
    "*réponse:*"
   ]
  },
  {
   "cell_type": "markdown",
   "metadata": {},
   "source": []
  },
  {
   "cell_type": "markdown",
   "metadata": {},
   "source": [
    "### Exercice 2\n",
    "#### <center>à faire</center>\n",
    "Dans l'espace ci-dessous, saisir en Python un algorithme :<br>\n",
    "* affectant la valeur 5 à la variable nommée *largeur*<br>\n",
    "* affectant la valeur 7 à la variable nommée *longueur*<br>\n",
    "* calculant l'aire du rectangle dont les dimensions sont celles précédemment affectée<br>\n",
    "* affichant le résultat obtenu."
   ]
  },
  {
   "cell_type": "code",
   "execution_count": null,
   "metadata": {
    "collapsed": true
   },
   "outputs": [],
   "source": []
  },
  {
   "cell_type": "markdown",
   "metadata": {},
   "source": [
    "## <center><font color='blue'>Demande</font><center>\n",
    "On peut demander la valeur d'une variable en utilisant la comande <font color='green'>*input*</font><br>\n",
    "### Exemple\n",
    "Pour demander la valeur d'une variable nommée x, on peut utiliser :"
   ]
  },
  {
   "cell_type": "code",
   "execution_count": 3,
   "metadata": {},
   "outputs": [
    {
     "name": "stdout",
     "output_type": "stream",
     "text": [
      "Quelle est la valeur de x?2\n",
      "2\n"
     ]
    }
   ],
   "source": [
    "x=input(\"Quelle est la valeur de x?\")\n",
    "print(x)"
   ]
  },
  {
   "attachments": {
    "lecture.JPG": {
     "image/jpeg": "[encoded data removed]"
    }
   },
   "cell_type": "markdown",
   "metadata": {},
   "source": [
    "utiliser ![lecture.JPG](attachment:lecture.JPG) pour observer ce qui se passe."
   ]
  },
  {
   "cell_type": "markdown",
   "metadata": {},
   "source": [
    "#### <font color='blue'>Remarque :</font>\n",
    "les guillements \" \" sont utilisés pour indiquer qu'il s'agit d'un texte à prendre comme tel."
   ]
  },
  {
   "cell_type": "markdown",
   "metadata": {},
   "source": [
    "### <center>à noter :</center>\n",
    "Par défaut, le type d’une variable saisie à l’aide de la fonction input( ) est une chaîne de caractères.\n",
    "Pour entrer un entier ou un décimal, il faut donc « forcer » la fonction input( ) en plaçant autour <font color='green'>**_int( )_ pour un entier**</font> ou <font color='green'>**_float( )_ pour un nombre décimal**</font>."
   ]
  },
  {
   "cell_type": "markdown",
   "metadata": {},
   "source": [
    "### Exercice 3\n",
    "<center>**à faire**</center><br>\n",
    "On considère l'algorithme suivant :"
   ]
  },
  {
   "cell_type": "code",
   "execution_count": 4,
   "metadata": {},
   "outputs": [
    {
     "name": "stdout",
     "output_type": "stream",
     "text": [
      "Quel est le rayon du disque ?4\n",
      "50.26548245743669\n"
     ]
    }
   ],
   "source": [
    "from math import *\n",
    "rayon=float(input(\"Quel est le rayon du disque ?\"))\n",
    "A=pi*rayon**2\n",
    "print(A)"
   ]
  },
  {
   "cell_type": "markdown",
   "metadata": {},
   "source": [
    "On constate sur la troisième ligne de code la présence de **2.<br>\n",
    "\n",
    "**A quelle fonction usuelle cela correspond-il ?** _(vous pouvez faire des essais sur EduPython si besoin)_"
   ]
  },
  {
   "cell_type": "markdown",
   "metadata": {},
   "source": [
    "*réponse :*"
   ]
  },
  {
   "cell_type": "markdown",
   "metadata": {},
   "source": []
  },
  {
   "cell_type": "markdown",
   "metadata": {},
   "source": [
    "**Quel est le rôle de cet algorithme ?**"
   ]
  },
  {
   "cell_type": "markdown",
   "metadata": {},
   "source": [
    "*réponse :*"
   ]
  },
  {
   "cell_type": "markdown",
   "metadata": {},
   "source": []
  },
  {
   "cell_type": "markdown",
   "metadata": {},
   "source": [
    "### Exercice 4\n",
    "<center>**à faire**</center>\n",
    "On considère l'algorithme suivant :"
   ]
  },
  {
   "cell_type": "code",
   "execution_count": 6,
   "metadata": {},
   "outputs": [
    {
     "name": "stdout",
     "output_type": "stream",
     "text": [
      "100\n"
     ]
    }
   ],
   "source": [
    "x=4\n",
    "x=x+6\n",
    "x=x**2\n",
    "print(x)"
   ]
  },
  {
   "cell_type": "markdown",
   "metadata": {},
   "source": [
    "**Quelle est la valeur affichée en sortie ?**<br><br>\n",
    "_réponse :_"
   ]
  },
  {
   "cell_type": "markdown",
   "metadata": {},
   "source": []
  },
  {
   "cell_type": "markdown",
   "metadata": {},
   "source": [
    "**Pourquoi ?**<br><br>\n",
    "_réponse :_"
   ]
  },
  {
   "cell_type": "markdown",
   "metadata": {},
   "source": []
  },
  {
   "cell_type": "markdown",
   "metadata": {},
   "source": [
    "**Dans la zone ci-dessous, écrire un algorithme réalisant les mêmes calculs mais avec une ligne de moins**<br><br>\n",
    "_réponse :_"
   ]
  },
  {
   "cell_type": "code",
   "execution_count": null,
   "metadata": {
    "collapsed": true
   },
   "outputs": [],
   "source": []
  },
  {
   "cell_type": "markdown",
   "metadata": {},
   "source": [
    "### Exercice 5\n",
    "<center>**à faire**</center>\n",
    "Voici un algorithme :"
   ]
  },
  {
   "cell_type": "code",
   "execution_count": 5,
   "metadata": {},
   "outputs": [
    {
     "name": "stdout",
     "output_type": "stream",
     "text": [
      "27.0\n"
     ]
    }
   ],
   "source": [
    "quantité=10\n",
    "prix=quantité*2.7\n",
    "print(prix)"
   ]
  },
  {
   "cell_type": "markdown",
   "metadata": {},
   "source": [
    "**A quoi correspond la valeur affichée en sortie ?**<br>\n",
    "<br>\n",
    "_réponse :_"
   ]
  },
  {
   "cell_type": "markdown",
   "metadata": {},
   "source": []
  },
  {
   "cell_type": "markdown",
   "metadata": {},
   "source": [
    "Remplacer la dernière ligne de cet algorithme par :<br>\n",
    "<font color='green'>print</font>(\"prix\")<br><br>\n",
    "**qu'est-ce qui est affiché en sortie cette fois-ci ?**<br><br>\n",
    "_réponse :_"
   ]
  },
  {
   "cell_type": "markdown",
   "metadata": {},
   "source": []
  },
  {
   "cell_type": "markdown",
   "metadata": {},
   "source": [
    "**Quel est le rôle des guillements ici?**<br><br>\n",
    "_réponse :_"
   ]
  },
  {
   "cell_type": "markdown",
   "metadata": {},
   "source": []
  },
  {
   "cell_type": "markdown",
   "metadata": {},
   "source": [
    "Remplacer cette fois la dernière ligne de l'algorithme par :<br>\n",
    "<font color='green'>print</font>(\"prix\",prix)<br><br>\n",
    "**qu'est-ce qui est affiché en sortie cette fois-ci ?**<br><br>\n",
    "_réponse :_"
   ]
  },
  {
   "cell_type": "markdown",
   "metadata": {},
   "source": []
  },
  {
   "cell_type": "markdown",
   "metadata": {},
   "source": [
    "**Quel est le rôle de la virgule ?**<br><br>\n",
    "_réponse :_"
   ]
  },
  {
   "cell_type": "markdown",
   "metadata": {},
   "source": []
  },
  {
   "cell_type": "markdown",
   "metadata": {},
   "source": [
    "### Exercice 6\n",
    "<center>**à faire**</center>\n",
    "Dans la zone de Python ci-dessous, écrire un algorithme qui :<br>\n",
    "* demande notre âge\n",
    "* calcule notre âge dans 3 ans\n",
    "* affiche la phrase \"Dans 3 ans, tu auras : ... ans\" où bien sûr les pointillés sont remplacés par l'âge précédemment calculé."
   ]
  },
  {
   "cell_type": "code",
   "execution_count": null,
   "metadata": {
    "collapsed": true
   },
   "outputs": [],
   "source": []
  },
  {
   "cell_type": "markdown",
   "metadata": {},
   "source": [
    "### Exercice 7\n",
    "<center>**à faire**</center>\n",
    "Dans la zone Python ci-dessous, écrire un algorithme qui :<br>\n",
    "* demande trois nombres entiers\n",
    "* calcule la moyenne de ces trois nombres\n",
    "* affiche en sortie la phrase \"La moyenne est ...\" où bien entendu les pointillés sont remplacés par le résultat précédemment calculé."
   ]
  },
  {
   "cell_type": "code",
   "execution_count": null,
   "metadata": {
    "collapsed": true
   },
   "outputs": [],
   "source": []
  }
 ],
 "metadata": {
  "celltoolbar": "Raw Cell Format",
  "kernelspec": {
   "display_name": "Python 3",
   "language": "python",
   "name": "python3"
  },
  "language_info": {
   "codemirror_mode": {
    "name": "ipython",
    "version": 3
   },
   "file_extension": ".py",
   "mimetype": "text/x-python",
   "name": "python",
   "nbconvert_exporter": "python",
   "pygments_lexer": "ipython3",
   "version": "3.4.5"
  }
 },
 "nbformat": 4,
 "nbformat_minor": 2
}
